{
 "cells": [
  {
   "cell_type": "markdown",
   "metadata": {},
   "source": [
    "# Dataset Description<br>"
   ]
  },
  {
   "cell_type": "markdown",
   "metadata": {},
   "source": [
    "This dataset consists of TV shows and movies available on Netflix as of 2019. The dataset is collected from Flixable which is a third-party Netflix search engine."
   ]
  },
  {
   "cell_type": "code",
   "execution_count": 2,
   "metadata": {},
   "outputs": [],
   "source": [
    "import pandas as pd\n",
    "import matplotlib.pyplot as plt\n",
    "import numpy as np"
   ]
  },
  {
   "cell_type": "code",
   "execution_count": 3,
   "metadata": {},
   "outputs": [
    {
     "data": {
      "text/plain": [
       "(6234, 12)"
      ]
     },
     "execution_count": 3,
     "metadata": {},
     "output_type": "execute_result"
    }
   ],
   "source": [
    "tvdata = pd.read_csv(\"/Users/ruochenshen/Documents/kaggle/netflix/netflix_titles.csv\")\n",
    "tvdata.shape"
   ]
  },
  {
   "cell_type": "code",
   "execution_count": 4,
   "metadata": {},
   "outputs": [
    {
     "data": {
      "text/html": [
       "<div>\n",
       "<style scoped>\n",
       "    .dataframe tbody tr th:only-of-type {\n",
       "        vertical-align: middle;\n",
       "    }\n",
       "\n",
       "    .dataframe tbody tr th {\n",
       "        vertical-align: top;\n",
       "    }\n",
       "\n",
       "    .dataframe thead th {\n",
       "        text-align: right;\n",
       "    }\n",
       "</style>\n",
       "<table border=\"1\" class=\"dataframe\">\n",
       "  <thead>\n",
       "    <tr style=\"text-align: right;\">\n",
       "      <th></th>\n",
       "      <th>show_id</th>\n",
       "      <th>type</th>\n",
       "      <th>title</th>\n",
       "      <th>director</th>\n",
       "      <th>cast</th>\n",
       "      <th>country</th>\n",
       "      <th>date_added</th>\n",
       "      <th>release_year</th>\n",
       "      <th>rating</th>\n",
       "      <th>duration</th>\n",
       "      <th>listed_in</th>\n",
       "      <th>description</th>\n",
       "    </tr>\n",
       "  </thead>\n",
       "  <tbody>\n",
       "    <tr>\n",
       "      <th>0</th>\n",
       "      <td>81145628</td>\n",
       "      <td>Movie</td>\n",
       "      <td>Norm of the North: King Sized Adventure</td>\n",
       "      <td>Richard Finn, Tim Maltby</td>\n",
       "      <td>Alan Marriott, Andrew Toth, Brian Dobson, Cole...</td>\n",
       "      <td>United States, India, South Korea, China</td>\n",
       "      <td>September 9, 2019</td>\n",
       "      <td>2019</td>\n",
       "      <td>TV-PG</td>\n",
       "      <td>90 min</td>\n",
       "      <td>Children &amp; Family Movies, Comedies</td>\n",
       "      <td>Before planning an awesome wedding for his gra...</td>\n",
       "    </tr>\n",
       "    <tr>\n",
       "      <th>1</th>\n",
       "      <td>80117401</td>\n",
       "      <td>Movie</td>\n",
       "      <td>Jandino: Whatever it Takes</td>\n",
       "      <td>NaN</td>\n",
       "      <td>Jandino Asporaat</td>\n",
       "      <td>United Kingdom</td>\n",
       "      <td>September 9, 2016</td>\n",
       "      <td>2016</td>\n",
       "      <td>TV-MA</td>\n",
       "      <td>94 min</td>\n",
       "      <td>Stand-Up Comedy</td>\n",
       "      <td>Jandino Asporaat riffs on the challenges of ra...</td>\n",
       "    </tr>\n",
       "    <tr>\n",
       "      <th>2</th>\n",
       "      <td>70234439</td>\n",
       "      <td>TV Show</td>\n",
       "      <td>Transformers Prime</td>\n",
       "      <td>NaN</td>\n",
       "      <td>Peter Cullen, Sumalee Montano, Frank Welker, J...</td>\n",
       "      <td>United States</td>\n",
       "      <td>September 8, 2018</td>\n",
       "      <td>2013</td>\n",
       "      <td>TV-Y7-FV</td>\n",
       "      <td>1 Season</td>\n",
       "      <td>Kids' TV</td>\n",
       "      <td>With the help of three human allies, the Autob...</td>\n",
       "    </tr>\n",
       "    <tr>\n",
       "      <th>3</th>\n",
       "      <td>80058654</td>\n",
       "      <td>TV Show</td>\n",
       "      <td>Transformers: Robots in Disguise</td>\n",
       "      <td>NaN</td>\n",
       "      <td>Will Friedle, Darren Criss, Constance Zimmer, ...</td>\n",
       "      <td>United States</td>\n",
       "      <td>September 8, 2018</td>\n",
       "      <td>2016</td>\n",
       "      <td>TV-Y7</td>\n",
       "      <td>1 Season</td>\n",
       "      <td>Kids' TV</td>\n",
       "      <td>When a prison ship crash unleashes hundreds of...</td>\n",
       "    </tr>\n",
       "    <tr>\n",
       "      <th>4</th>\n",
       "      <td>80125979</td>\n",
       "      <td>Movie</td>\n",
       "      <td>#realityhigh</td>\n",
       "      <td>Fernando Lebrija</td>\n",
       "      <td>Nesta Cooper, Kate Walsh, John Michael Higgins...</td>\n",
       "      <td>United States</td>\n",
       "      <td>September 8, 2017</td>\n",
       "      <td>2017</td>\n",
       "      <td>TV-14</td>\n",
       "      <td>99 min</td>\n",
       "      <td>Comedies</td>\n",
       "      <td>When nerdy high schooler Dani finally attracts...</td>\n",
       "    </tr>\n",
       "  </tbody>\n",
       "</table>\n",
       "</div>"
      ],
      "text/plain": [
       "    show_id     type                                    title  \\\n",
       "0  81145628    Movie  Norm of the North: King Sized Adventure   \n",
       "1  80117401    Movie               Jandino: Whatever it Takes   \n",
       "2  70234439  TV Show                       Transformers Prime   \n",
       "3  80058654  TV Show         Transformers: Robots in Disguise   \n",
       "4  80125979    Movie                             #realityhigh   \n",
       "\n",
       "                   director  \\\n",
       "0  Richard Finn, Tim Maltby   \n",
       "1                       NaN   \n",
       "2                       NaN   \n",
       "3                       NaN   \n",
       "4          Fernando Lebrija   \n",
       "\n",
       "                                                cast  \\\n",
       "0  Alan Marriott, Andrew Toth, Brian Dobson, Cole...   \n",
       "1                                   Jandino Asporaat   \n",
       "2  Peter Cullen, Sumalee Montano, Frank Welker, J...   \n",
       "3  Will Friedle, Darren Criss, Constance Zimmer, ...   \n",
       "4  Nesta Cooper, Kate Walsh, John Michael Higgins...   \n",
       "\n",
       "                                    country         date_added  release_year  \\\n",
       "0  United States, India, South Korea, China  September 9, 2019          2019   \n",
       "1                            United Kingdom  September 9, 2016          2016   \n",
       "2                             United States  September 8, 2018          2013   \n",
       "3                             United States  September 8, 2018          2016   \n",
       "4                             United States  September 8, 2017          2017   \n",
       "\n",
       "     rating  duration                           listed_in  \\\n",
       "0     TV-PG    90 min  Children & Family Movies, Comedies   \n",
       "1     TV-MA    94 min                     Stand-Up Comedy   \n",
       "2  TV-Y7-FV  1 Season                            Kids' TV   \n",
       "3     TV-Y7  1 Season                            Kids' TV   \n",
       "4     TV-14    99 min                            Comedies   \n",
       "\n",
       "                                         description  \n",
       "0  Before planning an awesome wedding for his gra...  \n",
       "1  Jandino Asporaat riffs on the challenges of ra...  \n",
       "2  With the help of three human allies, the Autob...  \n",
       "3  When a prison ship crash unleashes hundreds of...  \n",
       "4  When nerdy high schooler Dani finally attracts...  "
      ]
     },
     "execution_count": 4,
     "metadata": {},
     "output_type": "execute_result"
    }
   ],
   "source": [
    "tvdata.head()"
   ]
  },
  {
   "cell_type": "markdown",
   "metadata": {},
   "source": [
    " # Data Cleaning<br>\n",
    " 1. Keep only one observation of duplicated observations.<br><br>\n",
    " 2. Convert data type of \"date_added\" to datetime.<br><br>\n",
    " 3. Remove \"min\" or \"season\" in the duration column. Use \"duration\" to record movie length, and add a new                  column \"season\" record the number of seasons of TV shows.<br><br>"
   ]
  },
  {
   "cell_type": "code",
   "execution_count": 5,
   "metadata": {},
   "outputs": [
    {
     "data": {
      "text/html": [
       "<div>\n",
       "<style scoped>\n",
       "    .dataframe tbody tr th:only-of-type {\n",
       "        vertical-align: middle;\n",
       "    }\n",
       "\n",
       "    .dataframe tbody tr th {\n",
       "        vertical-align: top;\n",
       "    }\n",
       "\n",
       "    .dataframe thead th {\n",
       "        text-align: right;\n",
       "    }\n",
       "</style>\n",
       "<table border=\"1\" class=\"dataframe\">\n",
       "  <thead>\n",
       "    <tr style=\"text-align: right;\">\n",
       "      <th></th>\n",
       "      <th>show_id</th>\n",
       "      <th>type</th>\n",
       "      <th>title</th>\n",
       "      <th>director</th>\n",
       "      <th>cast</th>\n",
       "      <th>country</th>\n",
       "      <th>date_added</th>\n",
       "      <th>release_year</th>\n",
       "      <th>rating</th>\n",
       "      <th>duration</th>\n",
       "      <th>listed_in</th>\n",
       "      <th>description</th>\n",
       "      <th>season</th>\n",
       "    </tr>\n",
       "  </thead>\n",
       "  <tbody>\n",
       "    <tr>\n",
       "      <th>0</th>\n",
       "      <td>81145628</td>\n",
       "      <td>Movie</td>\n",
       "      <td>Norm of the North: King Sized Adventure</td>\n",
       "      <td>Richard Finn, Tim Maltby</td>\n",
       "      <td>Alan Marriott, Andrew Toth, Brian Dobson, Cole...</td>\n",
       "      <td>United States, India, South Korea, China</td>\n",
       "      <td>2019-09-09</td>\n",
       "      <td>2019</td>\n",
       "      <td>TV-PG</td>\n",
       "      <td>90</td>\n",
       "      <td>Children &amp; Family Movies, Comedies</td>\n",
       "      <td>Before planning an awesome wedding for his gra...</td>\n",
       "      <td>0</td>\n",
       "    </tr>\n",
       "    <tr>\n",
       "      <th>1</th>\n",
       "      <td>80117401</td>\n",
       "      <td>Movie</td>\n",
       "      <td>Jandino: Whatever it Takes</td>\n",
       "      <td>NaN</td>\n",
       "      <td>Jandino Asporaat</td>\n",
       "      <td>United Kingdom</td>\n",
       "      <td>2016-09-09</td>\n",
       "      <td>2016</td>\n",
       "      <td>TV-MA</td>\n",
       "      <td>94</td>\n",
       "      <td>Stand-Up Comedy</td>\n",
       "      <td>Jandino Asporaat riffs on the challenges of ra...</td>\n",
       "      <td>0</td>\n",
       "    </tr>\n",
       "    <tr>\n",
       "      <th>2</th>\n",
       "      <td>70234439</td>\n",
       "      <td>TV Show</td>\n",
       "      <td>Transformers Prime</td>\n",
       "      <td>NaN</td>\n",
       "      <td>Peter Cullen, Sumalee Montano, Frank Welker, J...</td>\n",
       "      <td>United States</td>\n",
       "      <td>2018-09-08</td>\n",
       "      <td>2013</td>\n",
       "      <td>TV-Y7-FV</td>\n",
       "      <td>0</td>\n",
       "      <td>Kids' TV</td>\n",
       "      <td>With the help of three human allies, the Autob...</td>\n",
       "      <td>1</td>\n",
       "    </tr>\n",
       "    <tr>\n",
       "      <th>3</th>\n",
       "      <td>80058654</td>\n",
       "      <td>TV Show</td>\n",
       "      <td>Transformers: Robots in Disguise</td>\n",
       "      <td>NaN</td>\n",
       "      <td>Will Friedle, Darren Criss, Constance Zimmer, ...</td>\n",
       "      <td>United States</td>\n",
       "      <td>2018-09-08</td>\n",
       "      <td>2016</td>\n",
       "      <td>TV-Y7</td>\n",
       "      <td>0</td>\n",
       "      <td>Kids' TV</td>\n",
       "      <td>When a prison ship crash unleashes hundreds of...</td>\n",
       "      <td>1</td>\n",
       "    </tr>\n",
       "    <tr>\n",
       "      <th>4</th>\n",
       "      <td>80125979</td>\n",
       "      <td>Movie</td>\n",
       "      <td>#realityhigh</td>\n",
       "      <td>Fernando Lebrija</td>\n",
       "      <td>Nesta Cooper, Kate Walsh, John Michael Higgins...</td>\n",
       "      <td>United States</td>\n",
       "      <td>2017-09-08</td>\n",
       "      <td>2017</td>\n",
       "      <td>TV-14</td>\n",
       "      <td>99</td>\n",
       "      <td>Comedies</td>\n",
       "      <td>When nerdy high schooler Dani finally attracts...</td>\n",
       "      <td>0</td>\n",
       "    </tr>\n",
       "  </tbody>\n",
       "</table>\n",
       "</div>"
      ],
      "text/plain": [
       "    show_id     type                                    title  \\\n",
       "0  81145628    Movie  Norm of the North: King Sized Adventure   \n",
       "1  80117401    Movie               Jandino: Whatever it Takes   \n",
       "2  70234439  TV Show                       Transformers Prime   \n",
       "3  80058654  TV Show         Transformers: Robots in Disguise   \n",
       "4  80125979    Movie                             #realityhigh   \n",
       "\n",
       "                   director  \\\n",
       "0  Richard Finn, Tim Maltby   \n",
       "1                       NaN   \n",
       "2                       NaN   \n",
       "3                       NaN   \n",
       "4          Fernando Lebrija   \n",
       "\n",
       "                                                cast  \\\n",
       "0  Alan Marriott, Andrew Toth, Brian Dobson, Cole...   \n",
       "1                                   Jandino Asporaat   \n",
       "2  Peter Cullen, Sumalee Montano, Frank Welker, J...   \n",
       "3  Will Friedle, Darren Criss, Constance Zimmer, ...   \n",
       "4  Nesta Cooper, Kate Walsh, John Michael Higgins...   \n",
       "\n",
       "                                    country date_added  release_year  \\\n",
       "0  United States, India, South Korea, China 2019-09-09          2019   \n",
       "1                            United Kingdom 2016-09-09          2016   \n",
       "2                             United States 2018-09-08          2013   \n",
       "3                             United States 2018-09-08          2016   \n",
       "4                             United States 2017-09-08          2017   \n",
       "\n",
       "     rating  duration                           listed_in  \\\n",
       "0     TV-PG        90  Children & Family Movies, Comedies   \n",
       "1     TV-MA        94                     Stand-Up Comedy   \n",
       "2  TV-Y7-FV         0                            Kids' TV   \n",
       "3     TV-Y7         0                            Kids' TV   \n",
       "4     TV-14        99                            Comedies   \n",
       "\n",
       "                                         description  season  \n",
       "0  Before planning an awesome wedding for his gra...       0  \n",
       "1  Jandino Asporaat riffs on the challenges of ra...       0  \n",
       "2  With the help of three human allies, the Autob...       1  \n",
       "3  When a prison ship crash unleashes hundreds of...       1  \n",
       "4  When nerdy high schooler Dani finally attracts...       0  "
      ]
     },
     "execution_count": 5,
     "metadata": {},
     "output_type": "execute_result"
    }
   ],
   "source": [
    "#Keep only one observation of duplicated observations.\n",
    "tvdata[tvdata.duplicated([\"type\", \"title\", \"director\", \"cast\", \"country\"], keep = False)]\n",
    "#after checking, the two observations are identical except show_id\n",
    "tvdata = tvdata.drop_duplicates(subset = [\"type\", \"title\", \"director\", \"cast\", \"country\"])\n",
    "tvdata.shape\n",
    "\n",
    "#Convert \"date_added\" to datetime.\n",
    "tvdata[\"date_added\"] = pd.to_datetime(tvdata[\"date_added\"])\n",
    "tvdata.head()\n",
    "\n",
    "#\"duration\" records movie length, and \"season\" records the number of seasons of TV shows\n",
    "season = tvdata[\"duration\"].str.contains(\"Season\")\n",
    "tvdata[\"season\"] = tvdata[\"duration\"].where(season, \"\")\n",
    "tvdata[\"duration\"] = tvdata[\"duration\"].mask(season, \"\")\n",
    "tvdata[\"duration\"] = tvdata[\"duration\"].str.split().str[0].fillna(0).astype(int)\n",
    "tvdata[\"season\"] = tvdata[\"season\"].str.split().str[0].fillna(0).astype(int)\n",
    "tvdata.head()"
   ]
  },
  {
   "cell_type": "markdown",
   "metadata": {},
   "source": [
    "# Data Analysis<br>\n",
    "\n",
    "## 1. Content Type"
   ]
  },
  {
   "cell_type": "code",
   "execution_count": 6,
   "metadata": {},
   "outputs": [
    {
     "data": {
      "image/png": "[encoded data removed]",
      "text/plain": [
       "<Figure size 432x288 with 1 Axes>"
      ]
     },
     "metadata": {},
     "output_type": "display_data"
    }
   ],
   "source": [
    "grouped = tvdata.groupby(\"type\")\n",
    "type_cnt = grouped[\"show_id\"].agg([\"count\"])\n",
    "type_cnt\n",
    "fig = plt.figure()\n",
    "ax = fig.add_axes([0, 0, 1, 1])\n",
    "ax.axis('equal')\n",
    "ax.pie(type_cnt, autopct='%1.1f%%', colors = ['wheat', 'thistle'], textprops={'fontsize': 14})\n",
    "ax.set_title(\"Content Type on Netflix\", fontsize = 15)\n",
    "ax.legend(labels = type_cnt.index, loc=1, prop={'size': 12})\n",
    "plt.show()"
   ]
  },
  {
   "cell_type": "markdown",
   "metadata": {},
   "source": [
    "### Conclusion: <br>\n",
    "Movie makes up 68.4% of content on Netflix, while TV show makes up 31.6%. Movie is still the main content on Netflix up to 2019."
   ]
  },
  {
   "cell_type": "markdown",
   "metadata": {},
   "source": [
    "## 2. Content Added"
   ]
  },
  {
   "cell_type": "code",
   "execution_count": 7,
   "metadata": {
    "scrolled": true
   },
   "outputs": [
    {
     "data": {
      "text/html": [
       "<div>\n",
       "<style scoped>\n",
       "    .dataframe tbody tr th:only-of-type {\n",
       "        vertical-align: middle;\n",
       "    }\n",
       "\n",
       "    .dataframe tbody tr th {\n",
       "        vertical-align: top;\n",
       "    }\n",
       "\n",
       "    .dataframe thead th {\n",
       "        text-align: right;\n",
       "    }\n",
       "</style>\n",
       "<table border=\"1\" class=\"dataframe\">\n",
       "  <thead>\n",
       "    <tr style=\"text-align: right;\">\n",
       "      <th>type</th>\n",
       "      <th>Movie</th>\n",
       "      <th>TV Show</th>\n",
       "    </tr>\n",
       "    <tr>\n",
       "      <th>release_year</th>\n",
       "      <th></th>\n",
       "      <th></th>\n",
       "    </tr>\n",
       "  </thead>\n",
       "  <tbody>\n",
       "    <tr>\n",
       "      <th>1925</th>\n",
       "      <td>0</td>\n",
       "      <td>1</td>\n",
       "    </tr>\n",
       "    <tr>\n",
       "      <th>1942</th>\n",
       "      <td>2</td>\n",
       "      <td>0</td>\n",
       "    </tr>\n",
       "    <tr>\n",
       "      <th>1943</th>\n",
       "      <td>3</td>\n",
       "      <td>0</td>\n",
       "    </tr>\n",
       "    <tr>\n",
       "      <th>1944</th>\n",
       "      <td>3</td>\n",
       "      <td>0</td>\n",
       "    </tr>\n",
       "    <tr>\n",
       "      <th>1945</th>\n",
       "      <td>3</td>\n",
       "      <td>0</td>\n",
       "    </tr>\n",
       "  </tbody>\n",
       "</table>\n",
       "</div>"
      ],
      "text/plain": [
       "type          Movie  TV Show\n",
       "release_year                \n",
       "1925              0        1\n",
       "1942              2        0\n",
       "1943              3        0\n",
       "1944              3        0\n",
       "1945              3        0"
      ]
     },
     "execution_count": 7,
     "metadata": {},
     "output_type": "execute_result"
    }
   ],
   "source": [
    "#prepare the dataframe: type, release_year, cnt\n",
    "grouped2 = tvdata.groupby([\"type\", \"release_year\"])\n",
    "type_cnt2 = grouped2[\"show_id\"].agg([\"count\"])\n",
    "type_cnt2.head()\n",
    "type_cnt3 = type_cnt2.reset_index()\n",
    "type_cnt3.head()\n",
    "\n",
    "#pivot table, convert NA to 0\n",
    "type_cnt4 = type_cnt3.pivot(index = \"release_year\", columns = \"type\", values = \"count\")\n",
    "type_cnt4.head()\n",
    "type_cnt4 = type_cnt4.fillna(0)\n",
    "type_cnt4.head()\n",
    "type_cnt4[\"Movie\"] = type_cnt4[\"Movie\"].astype(int)\n",
    "type_cnt4[\"TV Show\"] = type_cnt4[\"TV Show\"].astype(int)\n",
    "type_cnt4.head()"
   ]
  },
  {
   "cell_type": "code",
   "execution_count": 8,
   "metadata": {},
   "outputs": [
    {
     "data": {
      "image/png": "[encoded data removed]",
      "text/plain": [
       "<Figure size 504x360 with 1 Axes>"
      ]
     },
     "metadata": {},
     "output_type": "display_data"
    }
   ],
   "source": [
    "#get the peak coordinate value\n",
    "movie_max = type_cnt4[\"Movie\"].max()\n",
    "tv_max = type_cnt4[\"TV Show\"].max()\n",
    "movie_max_year = type_cnt4.index[type_cnt4[\"Movie\"] == movie_max]\n",
    "tv_max_year = type_cnt4.index[type_cnt4[\"TV Show\"] == tv_max]\n",
    "\n",
    "#plot\n",
    "fig = plt.figure(figsize = (7, 5))\n",
    "ax = fig.add_axes([0,0,1,1])\n",
    "ax.set_facecolor(\"ghostwhite\")\n",
    "ax.plot(type_cnt4.index, type_cnt4[\"Movie\"], color = 'slateblue')\n",
    "ax.plot(type_cnt4.index, type_cnt4[\"TV Show\"], color = 'orange')\n",
    "plt.title(\"Newly Released Content Every Year\", fontsize = 15)\n",
    "plt.xlabel(\"release_year\", fontsize = 12)\n",
    "plt.ylabel(\"released_number\",  fontsize = 12)\n",
    "plt.xlim(left = 1960)\n",
    "plt.plot(movie_max_year, movie_max,'ks')\n",
    "plt.plot(tv_max_year, tv_max,'ks')\n",
    "movie_max_node='['+str(movie_max_year[0])+','+str(movie_max)+']'\n",
    "tv_max_node='['+str(tv_max_year[0])+','+str(tv_max)+']'\n",
    "plt.annotate(movie_max_node, xy=(movie_max_year[0], movie_max))\n",
    "plt.annotate(tv_max_node, xy=(tv_max_year[0], tv_max))\n",
    "plt.legend([\"Movie\", \"TV Show\"], prop = {\"size\":12})\n",
    "plt.show()\n"
   ]
  },
  {
   "cell_type": "markdown",
   "metadata": {},
   "source": [
    "### Conclusion: <br>\n",
    "\n",
    "1. The newly released content on Netflix shows an increasing trend, especially after 2010. <br><br>\n",
    "2. The max number of newly released Movies happens in 2017, which is 682; while that of TV shows                      happens in 2019, which is 443.<br><br>\n",
    "3. From 2013 to now, the newly added content on Netflix increase most rapidly.<br><br>"
   ]
  },
  {
   "cell_type": "markdown",
   "metadata": {},
   "source": [
    "## 3. Content From Different Countries"
   ]
  },
  {
   "cell_type": "code",
   "execution_count": 9,
   "metadata": {},
   "outputs": [
    {
     "data": {
      "image/png": "[encoded data removed]",
      "text/plain": [
       "<Figure size 576x432 with 1 Axes>"
      ]
     },
     "metadata": {},
     "output_type": "display_data"
    }
   ],
   "source": [
    "#data aggragation\n",
    "grouped_country = tvdata.groupby(\"country\")\n",
    "country_cnt = grouped_country[\"show_id\"].agg([\"count\"])\n",
    "country_cnt = country_cnt.sort_values(by = [\"count\"], ascending = False)\n",
    "country_cnt.head(20)\n",
    "\n",
    "#plot\n",
    "country_cnt_head = country_cnt.head(20).sort_values(by = \"count\")\n",
    "fig = plt.figure(figsize = (8, 6))\n",
    "ax = fig.add_axes([0,0,1,1])\n",
    "ax.barh(country_cnt_head.index, country_cnt_head[\"count\"], color = \"thistle\")\n",
    "plt.title(\"Content From Different Countries\", fontsize = 15)\n",
    "plt.xlabel(\"Number of Content\", fontsize = 12)\n",
    "plt.ylabel(\"Country\", fontsize = 12)\n",
    "plt.xticks(fontsize = 12)\n",
    "plt.yticks(fontsize = 12)\n",
    "ax.set_facecolor(\"ghostwhite\")\n",
    "for i, v in enumerate(country_cnt_head[\"count\"]):\n",
    "    ax.text(v + 3, i, str(v), fontsize = 11, fontweight = \"bold\", color = \"mediumpurple\")\n",
    "plt.show()"
   ]
  },
  {
   "cell_type": "markdown",
   "metadata": {},
   "source": [
    "### Conclusion: <br>\n",
    "Most of content on Netflix is from United States, which is nearly 3 times of the content from India, the               country which is in the second place. From this we can see, though Netflix has users from lots of                     countries, it is most popular in United States.<br><br>"
   ]
  },
  {
   "cell_type": "markdown",
   "metadata": {},
   "source": [
    "## 4. Content Rating"
   ]
  },
  {
   "cell_type": "code",
   "execution_count": 10,
   "metadata": {},
   "outputs": [
    {
     "data": {
      "text/html": [
       "<div>\n",
       "<style scoped>\n",
       "    .dataframe tbody tr th:only-of-type {\n",
       "        vertical-align: middle;\n",
       "    }\n",
       "\n",
       "    .dataframe tbody tr th {\n",
       "        vertical-align: top;\n",
       "    }\n",
       "\n",
       "    .dataframe thead th {\n",
       "        text-align: right;\n",
       "    }\n",
       "</style>\n",
       "<table border=\"1\" class=\"dataframe\">\n",
       "  <thead>\n",
       "    <tr style=\"text-align: right;\">\n",
       "      <th>type</th>\n",
       "      <th>Movie</th>\n",
       "      <th>TV Show</th>\n",
       "    </tr>\n",
       "    <tr>\n",
       "      <th>rating</th>\n",
       "      <th></th>\n",
       "      <th></th>\n",
       "    </tr>\n",
       "  </thead>\n",
       "  <tbody>\n",
       "    <tr>\n",
       "      <th>G</th>\n",
       "      <td>36</td>\n",
       "      <td>1</td>\n",
       "    </tr>\n",
       "    <tr>\n",
       "      <th>NC-17</th>\n",
       "      <td>2</td>\n",
       "      <td>0</td>\n",
       "    </tr>\n",
       "    <tr>\n",
       "      <th>NR</th>\n",
       "      <td>202</td>\n",
       "      <td>16</td>\n",
       "    </tr>\n",
       "    <tr>\n",
       "      <th>PG</th>\n",
       "      <td>183</td>\n",
       "      <td>1</td>\n",
       "    </tr>\n",
       "    <tr>\n",
       "      <th>PG-13</th>\n",
       "      <td>286</td>\n",
       "      <td>0</td>\n",
       "    </tr>\n",
       "  </tbody>\n",
       "</table>\n",
       "</div>"
      ],
      "text/plain": [
       "type    Movie  TV Show\n",
       "rating                \n",
       "G          36        1\n",
       "NC-17       2        0\n",
       "NR        202       16\n",
       "PG        183        1\n",
       "PG-13     286        0"
      ]
     },
     "execution_count": 10,
     "metadata": {},
     "output_type": "execute_result"
    }
   ],
   "source": [
    "#prepare the dataframe: rating, type, cnt\n",
    "grouped_rating = tvdata.groupby([\"rating\", \"type\"])\n",
    "rating_cnt = grouped_rating[\"show_id\"].agg([\"count\"])\n",
    "rating_cnt.head()\n",
    "rating_cnt = rating_cnt.reset_index()\n",
    "rating_cnt.head()\n",
    "\n",
    "#pivot table, convert NA to 0\n",
    "rating_cnt = rating_cnt.pivot(index = \"rating\", columns = \"type\", values = \"count\")\n",
    "rating_cnt.head()\n",
    "rating_cnt = rating_cnt.fillna(0)\n",
    "rating_cnt.head()\n",
    "rating_cnt[\"Movie\"] = rating_cnt[\"Movie\"].astype(int)\n",
    "rating_cnt[\"TV Show\"] = rating_cnt[\"TV Show\"].astype(int)\n",
    "rating_cnt.head()"
   ]
  },
  {
   "cell_type": "code",
   "execution_count": 11,
   "metadata": {},
   "outputs": [
    {
     "data": {
      "image/png": "[encoded data removed]",
      "text/plain": [
       "<Figure size 648x360 with 1 Axes>"
      ]
     },
     "metadata": {},
     "output_type": "display_data"
    }
   ],
   "source": [
    "#plot\n",
    "fig = plt.figure(figsize = (9, 5))\n",
    "ax = fig.add_axes([0, 0, 1, 1])\n",
    "barwidth = 0.4\n",
    "x = np.arange(len(rating_cnt[\"Movie\"]))\n",
    "ax.bar(x, rating_cnt[\"Movie\"], color = \"thistle\", width = barwidth)\n",
    "ax.bar(x + barwidth, rating_cnt[\"TV Show\"], color = \"wheat\", width = barwidth)\n",
    "plt.xticks(x + 0.5 * barwidth, rating_cnt.index, fontsize = 12)\n",
    "plt.yticks(fontsize = 12)\n",
    "ax.set_facecolor(\"ghostwhite\")\n",
    "plt.title(\"Content Rating Distribution\", fontsize = 15)\n",
    "plt.legend(rating_cnt.columns, prop = {\"size\":12})\n",
    "plt.show()\n"
   ]
  },
  {
   "cell_type": "markdown",
   "metadata": {},
   "source": [
    "### Note:<br>\n",
    "By googling, the explanation of ratings is shown as the following maturity levels:<br><br>\n",
    "kids: TV-Y, TV-Y7, G, TV-G, PG, TV-PG<br>\n",
    "teen: PG-13, TV-14<br>\n",
    "adult: R, TV-MA, NC-17<br><br>"
   ]
  },
  {
   "cell_type": "markdown",
   "metadata": {},
   "source": [
    "### Conclusion: <br>\n",
    "1. Not all categories have TV shows, movie is the main type for most of categories.<br><br>\n",
    "2. TV-14 and TV-MA are the most common categories.<br><br>\n",
    "3. Most of content on Netflix is aimed to adult and teens.<br><br>"
   ]
  },
  {
   "cell_type": "markdown",
   "metadata": {},
   "source": [
    "## 5. Content Duration"
   ]
  },
  {
   "cell_type": "code",
   "execution_count": 12,
   "metadata": {},
   "outputs": [
    {
     "data": {
      "text/html": [
       "<div>\n",
       "<style scoped>\n",
       "    .dataframe tbody tr th:only-of-type {\n",
       "        vertical-align: middle;\n",
       "    }\n",
       "\n",
       "    .dataframe tbody tr th {\n",
       "        vertical-align: top;\n",
       "    }\n",
       "\n",
       "    .dataframe thead th {\n",
       "        text-align: right;\n",
       "    }\n",
       "</style>\n",
       "<table border=\"1\" class=\"dataframe\">\n",
       "  <thead>\n",
       "    <tr style=\"text-align: right;\">\n",
       "      <th></th>\n",
       "      <th>count</th>\n",
       "    </tr>\n",
       "    <tr>\n",
       "      <th>duration</th>\n",
       "      <th></th>\n",
       "    </tr>\n",
       "  </thead>\n",
       "  <tbody>\n",
       "    <tr>\n",
       "      <th>3</th>\n",
       "      <td>1</td>\n",
       "    </tr>\n",
       "    <tr>\n",
       "      <th>10</th>\n",
       "      <td>1</td>\n",
       "    </tr>\n",
       "    <tr>\n",
       "      <th>11</th>\n",
       "      <td>1</td>\n",
       "    </tr>\n",
       "    <tr>\n",
       "      <th>12</th>\n",
       "      <td>2</td>\n",
       "    </tr>\n",
       "    <tr>\n",
       "      <th>14</th>\n",
       "      <td>2</td>\n",
       "    </tr>\n",
       "  </tbody>\n",
       "</table>\n",
       "</div>"
      ],
      "text/plain": [
       "          count\n",
       "duration       \n",
       "3             1\n",
       "10            1\n",
       "11            1\n",
       "12            2\n",
       "14            2"
      ]
     },
     "execution_count": 12,
     "metadata": {},
     "output_type": "execute_result"
    }
   ],
   "source": [
    "#prepare the dataframe: movie duration, cnt\n",
    "movie_data = tvdata[tvdata[\"type\"] == \"Movie\"][[\"show_id\", \"duration\"]]\n",
    "movie_data.head()\n",
    "movie_data.shape\n",
    "grouped = movie_data.groupby([\"duration\"])\n",
    "movie_duration_cnt = grouped[\"show_id\"].agg([\"count\"]).sort_index(axis = 0)\n",
    "movie_duration_cnt.head()"
   ]
  },
  {
   "cell_type": "code",
   "execution_count": 13,
   "metadata": {},
   "outputs": [
    {
     "data": {
      "text/html": [
       "<div>\n",
       "<style scoped>\n",
       "    .dataframe tbody tr th:only-of-type {\n",
       "        vertical-align: middle;\n",
       "    }\n",
       "\n",
       "    .dataframe tbody tr th {\n",
       "        vertical-align: top;\n",
       "    }\n",
       "\n",
       "    .dataframe thead th {\n",
       "        text-align: right;\n",
       "    }\n",
       "</style>\n",
       "<table border=\"1\" class=\"dataframe\">\n",
       "  <thead>\n",
       "    <tr style=\"text-align: right;\">\n",
       "      <th></th>\n",
       "      <th>count</th>\n",
       "    </tr>\n",
       "    <tr>\n",
       "      <th>season</th>\n",
       "      <th></th>\n",
       "    </tr>\n",
       "  </thead>\n",
       "  <tbody>\n",
       "    <tr>\n",
       "      <th>1</th>\n",
       "      <td>1321</td>\n",
       "    </tr>\n",
       "    <tr>\n",
       "      <th>2</th>\n",
       "      <td>304</td>\n",
       "    </tr>\n",
       "    <tr>\n",
       "      <th>3</th>\n",
       "      <td>158</td>\n",
       "    </tr>\n",
       "    <tr>\n",
       "      <th>4</th>\n",
       "      <td>61</td>\n",
       "    </tr>\n",
       "    <tr>\n",
       "      <th>5</th>\n",
       "      <td>46</td>\n",
       "    </tr>\n",
       "    <tr>\n",
       "      <th>6</th>\n",
       "      <td>22</td>\n",
       "    </tr>\n",
       "    <tr>\n",
       "      <th>7</th>\n",
       "      <td>21</td>\n",
       "    </tr>\n",
       "    <tr>\n",
       "      <th>8</th>\n",
       "      <td>16</td>\n",
       "    </tr>\n",
       "    <tr>\n",
       "      <th>9</th>\n",
       "      <td>7</td>\n",
       "    </tr>\n",
       "    <tr>\n",
       "      <th>10</th>\n",
       "      <td>3</td>\n",
       "    </tr>\n",
       "    <tr>\n",
       "      <th>11</th>\n",
       "      <td>3</td>\n",
       "    </tr>\n",
       "    <tr>\n",
       "      <th>12</th>\n",
       "      <td>2</td>\n",
       "    </tr>\n",
       "    <tr>\n",
       "      <th>13</th>\n",
       "      <td>2</td>\n",
       "    </tr>\n",
       "    <tr>\n",
       "      <th>14</th>\n",
       "      <td>1</td>\n",
       "    </tr>\n",
       "    <tr>\n",
       "      <th>15</th>\n",
       "      <td>2</td>\n",
       "    </tr>\n",
       "  </tbody>\n",
       "</table>\n",
       "</div>"
      ],
      "text/plain": [
       "        count\n",
       "season       \n",
       "1        1321\n",
       "2         304\n",
       "3         158\n",
       "4          61\n",
       "5          46\n",
       "6          22\n",
       "7          21\n",
       "8          16\n",
       "9           7\n",
       "10          3\n",
       "11          3\n",
       "12          2\n",
       "13          2\n",
       "14          1\n",
       "15          2"
      ]
     },
     "execution_count": 13,
     "metadata": {},
     "output_type": "execute_result"
    }
   ],
   "source": [
    "#prepare the dataframe: TV seasons, cnt\n",
    "tv_data = tvdata[tvdata[\"type\"] == \"TV Show\"][[\"show_id\", \"season\"]]\n",
    "tv_data.head()\n",
    "grouped = tv_data.groupby([\"season\"])\n",
    "tv_season_cnt = grouped[\"show_id\"].agg([\"count\"])\n",
    "tv_season_cnt"
   ]
  },
  {
   "cell_type": "code",
   "execution_count": 14,
   "metadata": {},
   "outputs": [
    {
     "data": {
      "image/png": "[encoded data removed]",
      "text/plain": [
       "<Figure size 864x432 with 2 Axes>"
      ]
     },
     "metadata": {},
     "output_type": "display_data"
    }
   ],
   "source": [
    "#get the peak coordinate values\n",
    "duration_cnt_max = movie_duration_cnt[\"count\"].max()\n",
    "duration_cnt_max_index = movie_duration_cnt.index[movie_duration_cnt[\"count\"] == duration_cnt_max]\n",
    "season_cnt_max = tv_season_cnt[\"count\"].max()\n",
    "season_cnt_max_index = tv_season_cnt.index[tv_season_cnt[\"count\"] == season_cnt_max]\n",
    "\n",
    "#plot\n",
    "fig = plt.figure(figsize = (12, 6))\n",
    "(ax1, ax2) = fig.subplots(1, 2)\n",
    "\n",
    "#Movie Duration Distribution\n",
    "ax1.set_facecolor(\"ghostwhite\")\n",
    "ax1.plot(movie_duration_cnt.index, movie_duration_cnt[\"count\"], color = \"thistle\", )\n",
    "ax1.set_title(\"Movie Duration Distribution\", fontsize = 15)\n",
    "ax1.set_xlabel(\"duration(mins)\", fontsize = 12)\n",
    "ax1.set_ylabel(\"count\", fontsize = 12)\n",
    "ax1.fill_between(movie_duration_cnt.index, movie_duration_cnt[\"count\"], color = \"thistle\")\n",
    "ax1.tick_params(labelsize=12)\n",
    "duration_max_node = '[' + str(duration_cnt_max_index[0]) + ',' + str(duration_cnt_max) + ']'\n",
    "ax1.annotate(duration_max_node, xy=(duration_cnt_max_index[0], duration_cnt_max), fontsize = 12)\n",
    "\n",
    "#TV Seasons Distribution\n",
    "ax2.set_facecolor(\"ghostwhite\")\n",
    "ax2.plot(tv_season_cnt.index, tv_season_cnt[\"count\"], color = \"thistle\", )\n",
    "ax2.set_title(\"TV Seasons Distribution\", fontsize = 15)\n",
    "ax2.set_xlabel(\"Seasons\", fontsize = 12)\n",
    "ax2.set_ylabel(\"count\", fontsize = 12)\n",
    "ax2.fill_between(tv_season_cnt.index, tv_season_cnt[\"count\"], color = \"thistle\")\n",
    "ax2.tick_params(labelsize=12)\n",
    "season_max_node = '[' + str(season_cnt_max_index[0]) + ',' + str(season_cnt_max) + ']'\n",
    "ax2.annotate(season_max_node, xy=(season_cnt_max_index[0], season_cnt_max), fontsize = 12)\n",
    "\n",
    "plt.show()"
   ]
  },
  {
   "cell_type": "markdown",
   "metadata": {},
   "source": [
    "### Conclusion: <br>\n",
    "1. A movie length is always around 90 minutes. Shorter than 1 hour or longer than 2 hours are not common.<br><br>\n",
    "2. Most of TV shows only have 1 season, and those longer than 4 seasons are rare. <br><br>"
   ]
  }
 ],
 "metadata": {
  "kernelspec": {
   "display_name": "Python 3",
   "language": "python",
   "name": "python3"
  },
  "language_info": {
   "codemirror_mode": {
    "name": "ipython",
    "version": 3
   },
   "file_extension": ".py",
   "mimetype": "text/x-python",
   "name": "python",
   "nbconvert_exporter": "python",
   "pygments_lexer": "ipython3",
   "version": "3.6.8"
  }
 },
 "nbformat": 4,
 "nbformat_minor": 2
}
